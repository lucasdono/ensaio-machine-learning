{
 "cells": [
  {
   "cell_type": "markdown",
   "id": "8d2d11ed-1501-4952-bfe6-d52427cff00a",
   "metadata": {},
   "source": [
    "# 0.0 Import Libraries"
   ]
  },
  {
   "cell_type": "code",
   "execution_count": 1,
   "id": "3670454d-468a-406f-a488-7a3c95085a5d",
   "metadata": {},
   "outputs": [],
   "source": [
    "import pandas as pd\n",
    "import numpy as np\n",
    "\n",
    "\n",
    "from sklearn    import linear_model   as lm\n",
    "from sklearn    import preprocessing  as pp\n",
    "from sklearn    import metrics        as mt\n",
    "from sklearn    import tree           as tr\n",
    "from matplotlib import pyplot         as plt\n",
    "from sklearn    import ensemble       as en"
   ]
  },
  {
   "cell_type": "markdown",
   "id": "1e20135e-ba0e-4fb6-a314-287a01be4e22",
   "metadata": {},
   "source": [
    "# 1.0 Load Data"
   ]
  },
  {
   "cell_type": "code",
   "execution_count": 2,
   "id": "a7cf540c-d805-468f-8f3d-fe00ac1b4573",
   "metadata": {},
   "outputs": [],
   "source": [
    "#test data\n",
    "x_test = 'regressao/X_test.csv'\n",
    "x_test = pd.read_csv(x_test)\n",
    "\n",
    "y_test = 'regressao/y_test.csv'\n",
    "y_test = pd.read_csv(y_test).values.ravel()\n",
    "\n",
    "#training data\n",
    "x_training = 'regressao/X_training.csv'\n",
    "x_training = pd.read_csv(x_training)\n",
    "\n",
    "y_training = 'regressao/y_training.csv'\n",
    "y_training = pd.read_csv(y_training).values.ravel()\n",
    "\n",
    "#validation data\n",
    "x_validation = 'regressao/X_validation.csv'\n",
    "x_validation = pd.read_csv(x_validation)\n",
    "\n",
    "y_validation = 'regressao/y_val.csv'\n",
    "y_validation = pd.read_csv(y_validation).values.ravel()\n"
   ]
  },
  {
   "cell_type": "markdown",
   "id": "956f4b92-a724-425a-b949-09ffeeaf24a0",
   "metadata": {},
   "source": [
    "# 2.0 Algoritmos de Regressão (todos os valores foram diferentes, porém próximos)"
   ]
  },
  {
   "cell_type": "markdown",
   "id": "4c2cebcf-8b36-4545-9eef-92bc7b2ff144",
   "metadata": {
    "jp-MarkdownHeadingCollapsed": true
   },
   "source": [
    "### 2.1 Linear Regression"
   ]
  },
  {
   "cell_type": "code",
   "execution_count": 13,
   "id": "95383608-a925-4481-8b6d-38a8b84246bd",
   "metadata": {},
   "outputs": [
    {
     "name": "stdout",
     "output_type": "stream",
     "text": [
      " R2:0.046 , MSE:455.996, RMSE:21.46, MAE:17.00, MAPE:8.653\n"
     ]
    }
   ],
   "source": [
    "#TREINAMENTO\n",
    "#MODEL\n",
    "lr_model = lm.LinearRegression()\n",
    "\n",
    "#FIT\n",
    "lr_model.fit(x_training, y_training)\n",
    "\n",
    "#PERFORMANCE\n",
    "y_pred = lr_model.predict(x_training)\n",
    "\n",
    "\n",
    "#METRICS\n",
    "\n",
    "r2 = mt.r2_score(y_training, y_pred)\n",
    "mse = mt.mean_squared_error(y_training, y_pred)\n",
    "rmse = np.sqrt(mt.r2_score(y_training, y_pred))*100\n",
    "mae = mt.mean_absolute_error(y_training, y_pred)\n",
    "mape = mt.mean_absolute_percentage_error(y_training, y_pred)\n",
    "\n",
    "print(f' R2:{r2:.3f} , MSE:{mse:.3f}, RMSE:{rmse:.2f}, MAE:{mae:.2f}, MAPE:{mape:.3f}')"
   ]
  },
  {
   "cell_type": "code",
   "execution_count": 15,
   "id": "bf4560a9-72cf-44e5-8b0f-7c4200cf26ee",
   "metadata": {},
   "outputs": [
    {
     "name": "stdout",
     "output_type": "stream",
     "text": [
      " R2:0.052 , MSE:461.428, RMSE:22.87, MAE:17.13, MAPE:8.522\n"
     ]
    }
   ],
   "source": [
    "#Teste\n",
    "#MODEL\n",
    "lr_model = lm.LinearRegression()\n",
    "\n",
    "#FIT\n",
    "lr_model.fit(x_training, y_training)\n",
    "\n",
    "#PERFORMANCE\n",
    "y_pred_test = lr_model.predict(x_test)\n",
    "\n",
    "#METRICS\n",
    "\n",
    "r2 = mt.r2_score(y_test, y_pred_test)\n",
    "mse = mt.mean_squared_error(y_test, y_pred_test)\n",
    "rmse = np.sqrt(mt.r2_score(y_test, y_pred_test))*100\n",
    "mae = mt.mean_absolute_error(y_test, y_pred_test)\n",
    "mape = mt.mean_absolute_percentage_error(y_test, y_pred_test)\n",
    "\n",
    "print(f' R2:{r2:.3f} , MSE:{mse:.3f}, RMSE:{rmse:.2f}, MAE:{mae:.2f}, MAPE:{mape:.3f}')"
   ]
  },
  {
   "cell_type": "code",
   "execution_count": 16,
   "id": "b9f97d8b-d847-4893-b691-dc4f497f38c8",
   "metadata": {},
   "outputs": [
    {
     "name": "stdout",
     "output_type": "stream",
     "text": [
      " R2:0.040 , MSE:458.447, RMSE:19.98, MAE:17.04, MAPE:8.683\n"
     ]
    }
   ],
   "source": [
    "#Validation\n",
    "#MODEL\n",
    "lr_model = lm.LinearRegression()\n",
    "\n",
    "#FIT\n",
    "lr_model.fit(x_training, y_training)\n",
    "\n",
    "#PERFORMANCE\n",
    "y_pred_val = lr_model.predict(x_validation)\n",
    "\n",
    "#METRICS\n",
    "\n",
    "r2 = mt.r2_score(y_validation, y_pred_val)\n",
    "mse = mt.mean_squared_error(y_validation, y_pred_val)\n",
    "rmse = np.sqrt(mt.r2_score(y_validation, y_pred_val))*100\n",
    "mae = mt.mean_absolute_error(y_validation, y_pred_val)\n",
    "mape = mt.mean_absolute_percentage_error(y_validation, y_pred_val)\n",
    "\n",
    "print(f' R2:{r2:.3f} , MSE:{mse:.3f}, RMSE:{rmse:.2f}, MAE:{mae:.2f}, MAPE:{mape:.3f}')"
   ]
  },
  {
   "cell_type": "markdown",
   "id": "85c8f584-d5ac-4f0e-b2f2-b56b46429c39",
   "metadata": {
    "jp-MarkdownHeadingCollapsed": true
   },
   "source": [
    "### 2.2 Decision Tree Regressor"
   ]
  },
  {
   "cell_type": "code",
   "execution_count": 17,
   "id": "39c3c616-2ec9-4646-bad4-795292d11126",
   "metadata": {},
   "outputs": [
    {
     "name": "stdout",
     "output_type": "stream",
     "text": [
      " rmse: 0.1599130812558477 - max_depth:1\n",
      " rmse: 0.20816818654044458 - max_depth:2\n",
      " rmse: 0.25100795619991645 - max_depth:3\n",
      " rmse: 0.29436173978689467 - max_depth:4\n",
      " rmse: 0.3369313463073065 - max_depth:5\n",
      " rmse: 0.38027415687726335 - max_depth:6\n",
      " rmse: 0.4376813982670664 - max_depth:7\n",
      " rmse: 0.4956302132257542 - max_depth:8\n",
      " rmse: 0.5575764382208139 - max_depth:9\n",
      " rmse: 0.6201808154652333 - max_depth:10\n",
      " rmse: 0.6781306011869294 - max_depth:11\n",
      " rmse: 0.7329860833929159 - max_depth:12\n",
      " rmse: 0.779894758123982 - max_depth:13\n",
      " rmse: 0.8234302785604681 - max_depth:14\n",
      " rmse: 0.8592444067707106 - max_depth:15\n",
      " rmse: 0.8886989027965789 - max_depth:16\n",
      " rmse: 0.9139841645180669 - max_depth:17\n",
      " rmse: 0.9343731817121707 - max_depth:18\n",
      " rmse: 0.9512695259357609 - max_depth:19\n",
      " rmse: 0.962918375387389 - max_depth:20\n",
      " rmse: 0.9725296532504987 - max_depth:21\n",
      " rmse: 0.9802011419341994 - max_depth:22\n",
      " rmse: 0.9854914372247863 - max_depth:23\n",
      " rmse: 0.9891439199256559 - max_depth:24\n",
      " rmse: 0.9917485197445733 - max_depth:25\n",
      " rmse: 0.9934796113178996 - max_depth:26\n",
      " rmse: 0.9946964061338601 - max_depth:27\n",
      " rmse: 0.9953848390633183 - max_depth:28\n",
      " rmse: 0.9957418362977051 - max_depth:29\n",
      " rmse: 0.9958341440410073 - max_depth:30\n",
      " rmse: 0.9958650136254431 - max_depth:31\n",
      " rmse: 0.9958698186713926 - max_depth:32\n",
      " rmse: 0.9958698186713926 - max_depth:33\n",
      " rmse: 0.9958698186713926 - max_depth:34\n",
      " rmse: 0.9958698186713926 - max_depth:35\n",
      " rmse: 0.9958698186713926 - max_depth:36\n",
      " rmse: 0.9958698186713926 - max_depth:37\n",
      " rmse: 0.9958698186713926 - max_depth:38\n",
      " rmse: 0.9958698186713926 - max_depth:39\n",
      " rmse: 0.9958698186713926 - max_depth:40\n",
      " rmse: 0.9958698186713926 - max_depth:41\n",
      " rmse: 0.9958698186713926 - max_depth:42\n",
      " rmse: 0.9958698186713926 - max_depth:43\n",
      " rmse: 0.9958698186713926 - max_depth:44\n",
      " rmse: 0.9958698186713926 - max_depth:45\n",
      " rmse: 0.9958698186713926 - max_depth:46\n",
      " rmse: 0.9958698186713926 - max_depth:47\n",
      " rmse: 0.9958698186713926 - max_depth:48\n",
      " rmse: 0.9958698186713926 - max_depth:49\n"
     ]
    },
    {
     "data": {
      "text/plain": [
       "Text(0, 0.5, 'rmse')"
      ]
     },
     "execution_count": 17,
     "metadata": {},
     "output_type": "execute_result"
    },
    {
     "data": {
      "image/png": "[encoded data removed]",
      "text/plain": [
       "<Figure size 640x480 with 1 Axes>"
      ]
     },
     "metadata": {},
     "output_type": "display_data"
    }
   ],
   "source": [
    "#definindo melhor max_depth\n",
    "\n",
    "#TREINAMENTO\n",
    "k = np.arange(1, 50, 1)\n",
    "rmse_list =[]\n",
    "\n",
    "for i in k:\n",
    "    #MODEL\n",
    "    model = tr.DecisionTreeRegressor(max_depth = i)    \n",
    "    \n",
    "    #FIT\n",
    "    model.fit(x_training, y_training)\n",
    "        \n",
    "    #PERFORMANCE\n",
    "    y_pred= model.predict(x_training)\n",
    "        \n",
    "    #METRICS\n",
    "    \n",
    "    #r2 = mt.r2_score(y_training, y_pred)\n",
    "    #mse = mt.mean_squared_error(y_training, y_pred)\n",
    "    rmse = np.sqrt(mt.r2_score(y_training, y_pred))\n",
    "    rmse_list.append(rmse)\n",
    "    #mae = mt.mean_absolute_error(y_training, y_pred)\n",
    "    #mape = mt.mean_absolute_percentage_error(y_training, y_pred)\n",
    "    \n",
    "    #print(f' R2:{r2:.3f} , MSE:{mse:.3f}, RMSE:{rmse:.3f}, MAE:{mae:.3f}, MAPE:{mape:.3f}')\n",
    "    print(f' rmse: {rmse} - max_depth:{i}')\n",
    "\n",
    "\n",
    "plt.plot(k , rmse_list, marker='o')\n",
    "plt.xlabel('Max Depth')\n",
    "plt.ylabel('rmse')"
   ]
  },
  {
   "cell_type": "code",
   "execution_count": 23,
   "id": "28fdb88c-860f-46e1-96f2-529460968145",
   "metadata": {},
   "outputs": [
    {
     "name": "stdout",
     "output_type": "stream",
     "text": [
      " R2:0.992 , MSE:3.940, RMSE:1.985, MAE:0.214, MAPE:0.083\n"
     ]
    }
   ],
   "source": [
    "# TREINAMENTO\n",
    "\n",
    "#MODEL\n",
    "model = tr.DecisionTreeRegressor(random_state = 0, max_depth= 32)    \n",
    "  \n",
    "#FIT\n",
    "model.fit(x_training, y_training)\n",
    "     \n",
    "#PERFORMANCE\n",
    "y_pred= model.predict(x_training)\n",
    "        \n",
    "#METRICS\n",
    "    \n",
    "r2 = mt.r2_score(y_training, y_pred)\n",
    "mse = mt.mean_squared_error(y_training, y_pred)\n",
    "rmse = np.sqrt(mt.mean_squared_error(y_training, y_pred))\n",
    "mae = mt.mean_absolute_error(y_training, y_pred)\n",
    "mape = mt.mean_absolute_percentage_error(y_training, y_pred)\n",
    "    \n",
    "print(f' R2:{r2:.3f} , MSE:{mse:.3f}, RMSE:{rmse:.3f}, MAE:{mae:.3f}, MAPE:{mape:.3f}')\n"
   ]
  },
  {
   "cell_type": "code",
   "execution_count": 25,
   "id": "533fda1f-49f5-484e-b389-3c503dbcf86e",
   "metadata": {},
   "outputs": [
    {
     "name": "stdout",
     "output_type": "stream",
     "text": [
      " R2:-0.221 , MSE:594.736, RMSE:24.387, MAE:16.850, MAPE:6.123\n"
     ]
    }
   ],
   "source": [
    "#TESTE\n",
    "\n",
    "#MODEL\n",
    "model = tr.DecisionTreeRegressor(random_state = 0, max_depth= 32)    \n",
    "  \n",
    "#FIT\n",
    "model.fit(x_training, y_training)\n",
    "     \n",
    "#PERFORMANCE\n",
    "y_pred_test= model.predict(x_test)\n",
    "        \n",
    "#METRICS\n",
    "    \n",
    "r2 = mt.r2_score(y_test, y_pred_test)\n",
    "mse = mt.mean_squared_error(y_test, y_pred_test)\n",
    "rmse = np.sqrt(mt.mean_squared_error(y_test, y_pred_test))\n",
    "mae = mt.mean_absolute_error(y_test, y_pred_test)\n",
    "mape = mt.mean_absolute_percentage_error(y_test, y_pred_test)\n",
    "    \n",
    "print(f' R2:{r2:.3f} , MSE:{mse:.3f}, RMSE:{rmse:.3f}, MAE:{mae:.3f}, MAPE:{mape:.3f}')"
   ]
  },
  {
   "cell_type": "code",
   "execution_count": 26,
   "id": "c2f898f1-5fa5-42df-ad53-faa85699c0f8",
   "metadata": {},
   "outputs": [
    {
     "name": "stdout",
     "output_type": "stream",
     "text": [
      " R2:-0.297 , MSE:619.382, RMSE:24.887376710539037, MAE:17.093, MAPE:7.106\n"
     ]
    }
   ],
   "source": [
    "#VALIDATION\n",
    "\n",
    "#MODEL\n",
    "model = tr.DecisionTreeRegressor(random_state = 0, max_depth= 32)    \n",
    "  \n",
    "#FIT\n",
    "model.fit(x_training, y_training)\n",
    "     \n",
    "#PERFORMANCE\n",
    "y_pred_val= model.predict(x_validation)\n",
    "        \n",
    "#METRICS\n",
    "    \n",
    "r2 = mt.r2_score(y_validation,y_pred_val)\n",
    "mse = mt.mean_squared_error(y_validation, y_pred_val)\n",
    "rmse = np.sqrt(mt.mean_squared_error(y_validation, y_pred_val))\n",
    "mae = mt.mean_absolute_error(y_validation, y_pred_val)\n",
    "mape = mt.mean_absolute_percentage_error(y_validation, y_pred_val)\n",
    "    \n",
    "print(f' R2:{r2:.3f} , MSE:{mse:.3f}, RMSE:{rmse}, MAE:{mae:.3f}, MAPE:{mape:.3f}')"
   ]
  },
  {
   "cell_type": "markdown",
   "id": "ba35c1f3-7604-4a1d-a925-91ad4bad1b28",
   "metadata": {
    "jp-MarkdownHeadingCollapsed": true
   },
   "source": [
    "### 2.3 Random Forest Regressor"
   ]
  },
  {
   "cell_type": "code",
   "execution_count": 27,
   "id": "f184d265-af3f-477d-9911-ce7053887a79",
   "metadata": {},
   "outputs": [
    {
     "name": "stdout",
     "output_type": "stream",
     "text": [
      " R2:0.903 , MSE:46.455, RMSE:6.816, MAE:4.861, MAPE:2.578\n"
     ]
    }
   ],
   "source": [
    "#TREINAMENTO\n",
    "\n",
    "#MODEL\n",
    "model = en.RandomForestRegressor(random_state = 0)\n",
    "\n",
    "#FIT\n",
    "model.fit(x_training, y_training)\n",
    "\n",
    "#PERFORMANCE\n",
    "y_pred = model.predict(x_training)\n",
    "\n",
    "\n",
    "#metrics\n",
    "r2 = mt.r2_score(y_training, y_pred)\n",
    "mse = mt.mean_squared_error(y_training, y_pred)\n",
    "rmse = np.sqrt(mt.mean_squared_error(y_training, y_pred))\n",
    "mae = mt.mean_absolute_error(y_training, y_pred)\n",
    "mape = mt.mean_absolute_percentage_error(y_training, y_pred)\n",
    "    \n",
    "print(f' R2:{r2:.3f} , MSE:{mse:.3f}, RMSE:{rmse:.3f}, MAE:{mae:.3f}, MAPE:{mape:.3f}')"
   ]
  },
  {
   "cell_type": "code",
   "execution_count": 29,
   "id": "37756a2c-a799-4818-9a3f-4442cd43b58b",
   "metadata": {},
   "outputs": [
    {
     "name": "stdout",
     "output_type": "stream",
     "text": [
      " R2:0.353 , MSE:314.935, RMSE:17.746, MAE:13.043, MAPE:6.528\n"
     ]
    }
   ],
   "source": [
    "#TESTE\n",
    "\n",
    "#MODEL\n",
    "model = en.RandomForestRegressor(random_state = 0)\n",
    "\n",
    "#FIT\n",
    "model.fit(x_training, y_training)\n",
    "\n",
    "#PERFORMANCE\n",
    "y_pred_test = model.predict(x_test)\n",
    "\n",
    "\n",
    "#metrics\n",
    "r2 = mt.r2_score(y_test, y_pred_test)\n",
    "mse = mt.mean_squared_error(y_test, y_pred_test)\n",
    "rmse = np.sqrt(mt.mean_squared_error(y_test, y_pred_test))\n",
    "mae = mt.mean_absolute_error(y_test, y_pred_test)\n",
    "mape = mt.mean_absolute_percentage_error(y_test, y_pred_test)\n",
    "    \n",
    "print(f' R2:{r2:.3f} , MSE:{mse:.3f}, RMSE:{rmse:.3f}, MAE:{mae:.3f}, MAPE:{mape:.3f}')"
   ]
  },
  {
   "cell_type": "code",
   "execution_count": 30,
   "id": "cd769b47-a24b-4e91-97b9-030cd80f37b7",
   "metadata": {},
   "outputs": [
    {
     "name": "stdout",
     "output_type": "stream",
     "text": [
      " R2:0.335 , MSE:317.478, RMSE:17.818, MAE:13.002, MAPE:7.031\n"
     ]
    }
   ],
   "source": [
    "#VALIDATION\n",
    "\n",
    "#MODEL\n",
    "model = en.RandomForestRegressor(random_state = 0)\n",
    "\n",
    "#FIT\n",
    "model.fit(x_training, y_training)\n",
    "\n",
    "#PERFORMANCE\n",
    "y_pred_val = model.predict(x_validation)\n",
    "\n",
    "\n",
    "#metrics\n",
    "r2 = mt.r2_score(y_validation, y_pred_val)\n",
    "mse = mt.mean_squared_error(y_validation, y_pred_val)\n",
    "rmse = np.sqrt(mt.mean_squared_error(y_validation, y_pred_val))\n",
    "mae = mt.mean_absolute_error(y_validation, y_pred_val)\n",
    "mape = mt.mean_absolute_percentage_error(y_validation, y_pred_val)\n",
    "    \n",
    "print(f' R2:{r2:.3f} , MSE:{mse:.3f}, RMSE:{rmse:.3f}, MAE:{mae:.3f}, MAPE:{mape:.3f}')"
   ]
  },
  {
   "cell_type": "markdown",
   "id": "0f4c4d20-5ab3-4a5a-948a-db98707cce1a",
   "metadata": {},
   "source": [
    "### 2.4 Polinomial Regression"
   ]
  },
  {
   "cell_type": "code",
   "execution_count": null,
   "id": "10e1a5e0-2ecc-465a-bfeb-c7ff52738870",
   "metadata": {},
   "outputs": [
    {
     "name": "stdout",
     "output_type": "stream",
     "text": [
      "21.354065463644783\n",
      "20.809951455286825\n",
      "20.10469969094891\n",
      "17.843124324654013\n",
      "11.459058215353219\n"
     ]
    }
   ],
   "source": [
    "#selecionando valor de degrees\n",
    "degree_range = np.arange(1, 15, 1)\n",
    "rmse_values = []\n",
    "\n",
    "for i in degree_range:\n",
    "    #transformar as caracteristicas em caracteristicas polinomiais\n",
    "    poly_features = pp.PolynomialFeatures(degree=i) \n",
    "    x_train_poly = poly_features.fit_transform(x_training)\n",
    "\n",
    "    #ajustar um modelod e regressão linear\n",
    "    poly_reg = lm.LinearRegression()\n",
    "    poly_reg.fit(x_train_poly, y_training)\n",
    "\n",
    "    #predict\n",
    "    y_pred = poly_reg.predict(x_train_poly)\n",
    "\n",
    "    #metrics\n",
    "    rmse = np.sqrt(mt.mean_squared_error(y_training, y_pred))\n",
    "    rmse_values.append(rmse)\n",
    "\n",
    "    print(rmse)\n",
    "\n",
    "#plotar valores\n",
    "plt.plot(degree_range, rmse_values, marker='o', linestyle='-', color='b')\n",
    "plt.title('rmse')\n",
    "plt.xlabel('degree')\n",
    "plt.ylabel('RMSE')\n"
   ]
  },
  {
   "cell_type": "code",
   "execution_count": 3,
   "id": "9677ed5e-116f-42e7-8a11-b80e2dd193b9",
   "metadata": {},
   "outputs": [
    {
     "name": "stdout",
     "output_type": "stream",
     "text": [
      " R2:0.094 , MSE:433.054, RMSE:20.810, MAE:16.459, MAPE:8.351\n"
     ]
    }
   ],
   "source": [
    "#TREINAMENTO\n",
    "poly_features = pp.PolynomialFeatures(degree=2) \n",
    "x_train_poly = poly_features.fit_transform(x_training)\n",
    "\n",
    "#MODEL\n",
    "poly_reg = lm.LinearRegression()\n",
    "\n",
    "#FIT\n",
    "poly_reg.fit(x_train_poly, y_training)\n",
    "\n",
    "#PERFORMANCE\n",
    "y_pred = poly_reg.predict(x_train_poly)\n",
    "\n",
    "\n",
    "#metrics\n",
    "r2 = mt.r2_score(y_training, y_pred)\n",
    "mse = mt.mean_squared_error(y_training, y_pred)\n",
    "rmse = np.sqrt(mt.mean_squared_error(y_training, y_pred))\n",
    "mae = mt.mean_absolute_error(y_training, y_pred)\n",
    "mape = mt.mean_absolute_percentage_error(y_training, y_pred)\n",
    "    \n",
    "print(f' R2:{r2:.3f} , MSE:{mse:.3f}, RMSE:{rmse:.3f}, MAE:{mae:.3f}, MAPE:{mape:.3f}')"
   ]
  },
  {
   "cell_type": "code",
   "execution_count": 9,
   "id": "318d56d9-720f-4c1a-9122-473caf6528ed",
   "metadata": {},
   "outputs": [
    {
     "name": "stdout",
     "output_type": "stream",
     "text": [
      " R2:0.124 , MSE:426.381, RMSE:20.649, MAE:16.412, MAPE:7.723\n"
     ]
    }
   ],
   "source": [
    "## TESTE\n",
    "poly_features = pp.PolynomialFeatures(degree=2) \n",
    "x_test_poly = poly_features.fit_transform(x_test)\n",
    "\n",
    "#MODEL\n",
    "poly_reg = lm.LinearRegression()\n",
    "\n",
    "#FIT\n",
    "poly_reg.fit(x_test_poly, y_test)\n",
    "\n",
    "#PERFORMANCE\n",
    "y_pred_test = poly_reg.predict(x_test_poly)\n",
    "\n",
    "\n",
    "#metrics\n",
    "r2 = mt.r2_score(y_test, y_pred_test)\n",
    "mse = mt.mean_squared_error(y_test, y_pred_test)\n",
    "rmse = np.sqrt(mt.mean_squared_error(y_test, y_pred_test))\n",
    "mae = mt.mean_absolute_error(y_test, y_pred_test)\n",
    "mape = mt.mean_absolute_percentage_error(y_test, y_pred_test)\n",
    "    \n",
    "print(f' R2:{r2:.3f} , MSE:{mse:.3f}, RMSE:{rmse:.3f}, MAE:{mae:.3f}, MAPE:{mape:.3f}')"
   ]
  },
  {
   "cell_type": "code",
   "execution_count": 7,
   "id": "fb80269d-fbe8-440d-9e82-e1b18214bb16",
   "metadata": {},
   "outputs": [
    {
     "name": "stdout",
     "output_type": "stream",
     "text": [
      " R2:0.094 , MSE:432.806, RMSE:20.804, MAE:16.515, MAPE:8.415\n"
     ]
    }
   ],
   "source": [
    "#VALIDATION\n",
    "poly_features = pp.PolynomialFeatures(degree=2) \n",
    "x_val_poly = poly_features.fit_transform(x_validation)\n",
    "\n",
    "#MODEL\n",
    "poly_reg = lm.LinearRegression()\n",
    "\n",
    "#FIT\n",
    "poly_reg.fit(x_val_poly, y_validation)\n",
    "\n",
    "#PERFORMANCE\n",
    "y_pred_val = poly_reg.predict(x_val_poly)\n",
    "\n",
    "\n",
    "#metrics\n",
    "r2 = mt.r2_score(y_validation, y_pred_val)\n",
    "mse = mt.mean_squared_error(y_validation, y_pred_val)\n",
    "rmse = np.sqrt(mt.mean_squared_error(y_validation, y_pred_val))\n",
    "mae = mt.mean_absolute_error(y_validation, y_pred_val)\n",
    "mape = mt.mean_absolute_percentage_error(y_validation, y_pred_val)\n",
    "    \n",
    "print(f' R2:{r2:.3f} , MSE:{mse:.3f}, RMSE:{rmse:.3f}, MAE:{mae:.3f}, MAPE:{mape:.3f}')"
   ]
  },
  {
   "cell_type": "markdown",
   "id": "b1edf43c-cba6-4dea-b6df-5dbaabea326a",
   "metadata": {},
   "source": [
    "### 2.5 Linear Regression Lasso"
   ]
  },
  {
   "cell_type": "code",
   "execution_count": 34,
   "id": "54dda529-389b-4f7e-bac8-52a92c0d6d51",
   "metadata": {},
   "outputs": [
    {
     "name": "stdout",
     "output_type": "stream",
     "text": [
      " R2:0.007 , MSE:474.475, RMSE:21.782, MAE:17.305, MAPE:8.737\n"
     ]
    }
   ],
   "source": [
    "#TREINAMENTO\n",
    "\n",
    "#MODEL\n",
    "#lr = lm.LinearRegression()\n",
    "\n",
    "#FIT\n",
    "#lr.fit(x_training, y_training)\n",
    "\n",
    "#PERFORMANCE\n",
    "#y_pred_lr = lr.predict(x_training)\n",
    "\n",
    "lasso = lm.Lasso()\n",
    "lasso.fit(x_training, y_training)\n",
    "ypred_lasso = lasso.predict(x_training)\n",
    "\n",
    "#metrics\n",
    "r2 = mt.r2_score(y_training, ypred_lasso)\n",
    "mse = mt.mean_squared_error(y_training, ypred_lasso)\n",
    "rmse = np.sqrt(mt.mean_squared_error(y_training, ypred_lasso))\n",
    "mae = mt.mean_absolute_error(y_training, ypred_lasso)\n",
    "mape = mt.mean_absolute_percentage_error(y_training, ypred_lasso)\n",
    "    \n",
    "print(f' R2:{r2:.3f} , MSE:{mse:.3f}, RMSE:{rmse:.3f}, MAE:{mae:.3f}, MAPE:{mape:.3f}')\n"
   ]
  },
  {
   "cell_type": "code",
   "execution_count": 37,
   "id": "1d662f44-5c68-465f-b25d-a1c3696825fa",
   "metadata": {},
   "outputs": [
    {
     "name": "stdout",
     "output_type": "stream",
     "text": [
      " R2:0.008 , MSE:483.178, RMSE:21.981, MAE:17.473, MAPE:8.753\n"
     ]
    }
   ],
   "source": [
    "#TESTE\n",
    "\n",
    "#MODEL\n",
    "lr = lm.LinearRegression()\n",
    "\n",
    "#FIT\n",
    "lr.fit(x_training, y_training)\n",
    "\n",
    "#PERFORMANCE\n",
    "y_pred_lr = lr.predict(x_test)\n",
    "\n",
    "lasso = lm.Lasso()\n",
    "lasso.fit(x_training, y_training)\n",
    "ypred_lasso_test = lasso.predict(x_test)\n",
    "\n",
    "#metrics\n",
    "r2 = mt.r2_score(y_test, ypred_lasso_test)\n",
    "mse = mt.mean_squared_error(y_test, ypred_lasso_test)\n",
    "rmse = np.sqrt(mt.mean_squared_error(y_test, ypred_lasso_test))\n",
    "mae = mt.mean_absolute_error(y_test, ypred_lasso_test)\n",
    "mape = mt.mean_absolute_percentage_error(y_test, ypred_lasso_test)\n",
    "    \n",
    "print(f' R2:{r2:.3f} , MSE:{mse:.3f}, RMSE:{rmse:.3f}, MAE:{mae:.3f}, MAPE:{mape:.3f}')\n"
   ]
  },
  {
   "cell_type": "code",
   "execution_count": 36,
   "id": "88fa0104-766c-4701-ab97-6e063ea6a90c",
   "metadata": {},
   "outputs": [
    {
     "name": "stdout",
     "output_type": "stream",
     "text": [
      " R2:0.008 , MSE:473.747, RMSE:21.766, MAE:17.265, MAPE:8.696\n"
     ]
    }
   ],
   "source": [
    "#VALIDATION\n",
    "\n",
    "#MODEL\n",
    "lr = lm.LinearRegression()\n",
    "\n",
    "#FIT\n",
    "lr.fit(x_training, y_training)\n",
    "\n",
    "#PERFORMANCE\n",
    "y_pred_lr = lr.predict(x_training)\n",
    "\n",
    "lasso = lm.Lasso()\n",
    "lasso.fit(x_training, y_training)\n",
    "ypred_lasso_val = lasso.predict(x_validation)\n",
    "\n",
    "#metrics\n",
    "r2 = mt.r2_score(y_validation, ypred_lasso_val)\n",
    "mse = mt.mean_squared_error(y_validation, ypred_lasso_val)\n",
    "rmse = np.sqrt(mt.mean_squared_error(y_validation, ypred_lasso_val))\n",
    "mae = mt.mean_absolute_error(y_validation, ypred_lasso_val)\n",
    "mape = mt.mean_absolute_percentage_error(y_validation, ypred_lasso_val)\n",
    "    \n",
    "print(f' R2:{r2:.3f} , MSE:{mse:.3f}, RMSE:{rmse:.3f}, MAE:{mae:.3f}, MAPE:{mape:.3f}')\n"
   ]
  },
  {
   "cell_type": "markdown",
   "id": "cfade1dd-0168-4149-bd4c-9538c5a4f9cf",
   "metadata": {},
   "source": [
    "### 2.6 Linear Regression Ridge"
   ]
  },
  {
   "cell_type": "code",
   "execution_count": 38,
   "id": "86849c38-c8d3-4b3d-b828-82114b0b35d2",
   "metadata": {},
   "outputs": [
    {
     "name": "stdout",
     "output_type": "stream",
     "text": [
      " R2:0.046 , MSE:455.996, RMSE:21.354, MAE:16.998, MAPE:8.653\n"
     ]
    }
   ],
   "source": [
    "#TREINAMENTO\n",
    "\n",
    "#MODEL\n",
    "#lr = lm.LinearRegression()\n",
    "\n",
    "#FIT\n",
    "#lr.fit(x_training, y_training)\n",
    "\n",
    "#PERFORMANCE\n",
    "#y_pred = lr.predict(x_training)\n",
    "\n",
    "ridge = lm.Ridge()\n",
    "\n",
    "ridge.fit(x_training, y_training)\n",
    "\n",
    "ypred = ridge.predict(x_training)\n",
    "\n",
    "#metrics\n",
    "r2 = mt.r2_score(y_training, ypred)\n",
    "mse = mt.mean_squared_error(y_training, ypred)\n",
    "rmse = np.sqrt(mt.mean_squared_error(y_training, ypred))\n",
    "mae = mt.mean_absolute_error(y_training, ypred)\n",
    "mape = mt.mean_absolute_percentage_error(y_training, ypred)\n",
    "    \n",
    "print(f' R2:{r2:.3f} , MSE:{mse:.3f}, RMSE:{rmse:.3f}, MAE:{mae:.3f}, MAPE:{mape:.3f}')\n"
   ]
  },
  {
   "cell_type": "code",
   "execution_count": 40,
   "id": "fe888221-f1bb-4239-b67a-6ca160f6ba05",
   "metadata": {},
   "outputs": [
    {
     "name": "stdout",
     "output_type": "stream",
     "text": [
      " R2:0.052 , MSE:461.431, RMSE:21.481, MAE:17.130, MAPE:8.523\n"
     ]
    }
   ],
   "source": [
    "#TESTE\n",
    "\n",
    "#MODEL\n",
    "ridge = lm.Ridge()\n",
    "\n",
    "#FIT\n",
    "ridge.fit(x_training, y_training)\n",
    "\n",
    "#PERFORMANCE\n",
    "ypred_test = ridge.predict(x_test)\n",
    "\n",
    "#metrics\n",
    "r2 = mt.r2_score(y_test, ypred_test)\n",
    "mse = mt.mean_squared_error(y_test, ypred_test)\n",
    "rmse = np.sqrt(mt.mean_squared_error(y_test, ypred_test))\n",
    "mae = mt.mean_absolute_error(y_test, ypred_test)\n",
    "mape = mt.mean_absolute_percentage_error(y_test, ypred_test)\n",
    "    \n",
    "print(f' R2:{r2:.3f} , MSE:{mse:.3f}, RMSE:{rmse:.3f}, MAE:{mae:.3f}, MAPE:{mape:.3f}')"
   ]
  },
  {
   "cell_type": "code",
   "execution_count": 39,
   "id": "b5a50a79-e149-4cfe-95de-90809a9fbb06",
   "metadata": {},
   "outputs": [
    {
     "name": "stdout",
     "output_type": "stream",
     "text": [
      " R2:0.040 , MSE:458.445, RMSE:21.411, MAE:17.039, MAPE:8.682\n"
     ]
    }
   ],
   "source": [
    "#VALIDATION\n",
    "\n",
    "#MODEL\n",
    "ridge = lm.Ridge()\n",
    "\n",
    "#FIT\n",
    "ridge.fit(x_training, y_training)\n",
    "\n",
    "#PERFORMANCE\n",
    "ypred_val = ridge.predict(x_validation)\n",
    "\n",
    "\n",
    "#metrics\n",
    "r2 = mt.r2_score(y_validation, ypred_val)\n",
    "mse = mt.mean_squared_error(y_validation, ypred_val)\n",
    "rmse = np.sqrt(mt.mean_squared_error(y_validation, ypred_val))\n",
    "mae = mt.mean_absolute_error(y_validation, ypred_val)\n",
    "mape = mt.mean_absolute_percentage_error(y_validation, ypred_val)\n",
    "    \n",
    "print(f' R2:{r2:.3f} , MSE:{mse:.3f}, RMSE:{rmse:.3f}, MAE:{mae:.3f}, MAPE:{mape:.3f}')"
   ]
  },
  {
   "cell_type": "markdown",
   "id": "ff1f5eb5-2aa6-4c23-883f-062e9b205f7f",
   "metadata": {},
   "source": [
    "### 2.7 Linear Regression Elastic Net"
   ]
  },
  {
   "cell_type": "code",
   "execution_count": 41,
   "id": "42e9d64a-0fd4-47bb-87a4-5d681fdf39ea",
   "metadata": {},
   "outputs": [
    {
     "name": "stdout",
     "output_type": "stream",
     "text": [
      " R2:0.008 , MSE:474.269, RMSE:21.778, MAE:17.300, MAPE:8.732\n"
     ]
    }
   ],
   "source": [
    "#TREINAMENTO\n",
    "\n",
    "#MODEL\n",
    "ransac = lm.ElasticNet(random_state = 0)\n",
    "\n",
    "#FIT\n",
    "ransac.fit(x_training, y_training)\n",
    "\n",
    "#PERFORMANCE\n",
    "ypred = ransac.predict(x_training)\n",
    "\n",
    "\n",
    "#metrics\n",
    "r2 = mt.r2_score(y_training, ypred)\n",
    "mse = mt.mean_squared_error(y_training, ypred)\n",
    "rmse = np.sqrt(mt.mean_squared_error(y_training, ypred))\n",
    "mae = mt.mean_absolute_error(y_training, ypred)\n",
    "mape = mt.mean_absolute_percentage_error(y_training, ypred)\n",
    "    \n",
    "print(f' R2:{r2:.3f} , MSE:{mse:.3f}, RMSE:{rmse:.3f}, MAE:{mae:.3f}, MAPE:{mape:.3f}')"
   ]
  },
  {
   "cell_type": "code",
   "execution_count": 42,
   "id": "1f5fcd58-0aab-478d-ad48-15b9da77a3e5",
   "metadata": {},
   "outputs": [
    {
     "name": "stdout",
     "output_type": "stream",
     "text": [
      " R2:0.008 , MSE:483.035, RMSE:21.978, MAE:17.470, MAPE:8.745\n"
     ]
    }
   ],
   "source": [
    "#TESTE\n",
    "\n",
    "#MODEL\n",
    "ransac = lm.ElasticNet(random_state = 0)\n",
    "\n",
    "#FIT\n",
    "ransac.fit(x_training, y_training)\n",
    "\n",
    "#PERFORMANCE\n",
    "ypred_test = ransac.predict(x_test)\n",
    "\n",
    "#metrics\n",
    "r2 = mt.r2_score(y_test, ypred_test)\n",
    "mse = mt.mean_squared_error(y_test, ypred_test)\n",
    "rmse = np.sqrt(mt.mean_squared_error(y_test, ypred_test))\n",
    "mae = mt.mean_absolute_error(y_test, ypred_test)\n",
    "mape = mt.mean_absolute_percentage_error(y_test, ypred_test)\n",
    "    \n",
    "print(f' R2:{r2:.3f} , MSE:{mse:.3f}, RMSE:{rmse:.3f}, MAE:{mae:.3f}, MAPE:{mape:.3f}')"
   ]
  },
  {
   "cell_type": "code",
   "execution_count": 43,
   "id": "ec4c6921-927b-4f77-926b-549475ef6e7d",
   "metadata": {},
   "outputs": [
    {
     "name": "stdout",
     "output_type": "stream",
     "text": [
      " R2:0.008 , MSE:473.636, RMSE:21.763, MAE:17.263, MAPE:8.694\n"
     ]
    }
   ],
   "source": [
    "#VALIDATION\n",
    "\n",
    "#MODEL\n",
    "ransac = lm.ElasticNet(random_state = 0)\n",
    "\n",
    "#FIT\n",
    "ransac.fit(x_training, y_training)\n",
    "\n",
    "#PERFORMANCE\n",
    "ypred_val = ransac.predict(x_validation)\n",
    "\n",
    "#metrics\n",
    "r2 = mt.r2_score(y_validation, ypred_val)\n",
    "mse = mt.mean_squared_error(y_validation, ypred_val)\n",
    "rmse = np.sqrt(mt.mean_squared_error(y_validation, ypred_val))\n",
    "mae = mt.mean_absolute_error(y_validation, ypred_val)\n",
    "mape = mt.mean_absolute_percentage_error(y_validation, ypred_val)\n",
    "    \n",
    "print(f' R2:{r2:.3f} , MSE:{mse:.3f}, RMSE:{rmse:.3f}, MAE:{mae:.3f}, MAPE:{mape:.3f}')"
   ]
  },
  {
   "cell_type": "markdown",
   "id": "7aecdf68-06bf-4ad9-86ff-e244dc537573",
   "metadata": {},
   "source": [
    "### 2.8 Polinomial Regression Lasso"
   ]
  },
  {
   "cell_type": "code",
   "execution_count": 44,
   "id": "8222f7f7-c051-4378-896c-7eb7fb81ade7",
   "metadata": {},
   "outputs": [
    {
     "name": "stdout",
     "output_type": "stream",
     "text": [
      " R2:0.009 , MSE:473.639, RMSE:21.763, MAE:17.285, MAPE:8.700\n"
     ]
    }
   ],
   "source": [
    "#TREINAMENTO\n",
    "poly_features = pp.PolynomialFeatures()\n",
    "x_train_poly = poly_features.fit_transform(x_training)\n",
    "\n",
    "#MODEL\n",
    "poly_reg = lm.Lasso()\n",
    "\n",
    "#FIT\n",
    "poly_reg.fit(x_train_poly, y_training)\n",
    "\n",
    "#PERFORMANCE\n",
    "ypred = poly_reg.predict(x_train_poly)\n",
    "\n",
    "\n",
    "#metrics\n",
    "r2 = mt.r2_score(y_training, ypred)\n",
    "mse = mt.mean_squared_error(y_training, ypred)\n",
    "rmse = np.sqrt(mt.mean_squared_error(y_training, ypred))\n",
    "mae = mt.mean_absolute_error(y_training, ypred)\n",
    "mape = mt.mean_absolute_percentage_error(y_training, ypred)\n",
    "    \n",
    "print(f' R2:{r2:.3f} , MSE:{mse:.3f}, RMSE:{rmse:.3f}, MAE:{mae:.3f}, MAPE:{mape:.3f}')"
   ]
  },
  {
   "cell_type": "code",
   "execution_count": 45,
   "id": "3604bbff-583a-4b49-8ad3-63056675a446",
   "metadata": {},
   "outputs": [
    {
     "name": "stdout",
     "output_type": "stream",
     "text": [
      " R2:0.010 , MSE:482.189, RMSE:21.959, MAE:17.474, MAPE:8.722\n"
     ]
    }
   ],
   "source": [
    "#TESTE\n",
    "poly_features = pp.PolynomialFeatures()\n",
    "x_test_poly = poly_features.fit_transform(x_test)\n",
    "\n",
    "#MODEL\n",
    "poly_reg = lm.Lasso()\n",
    "\n",
    "#FIT\n",
    "poly_reg.fit(x_test_poly, y_test)\n",
    "\n",
    "#PERFORMANCE\n",
    "ypred_test = poly_reg.predict(x_test_poly)\n",
    "\n",
    "\n",
    "#metrics\n",
    "r2 = mt.r2_score(y_test, ypred_test)\n",
    "mse = mt.mean_squared_error(y_test, ypred_test)\n",
    "rmse = np.sqrt(mt.mean_squared_error(y_test, ypred_test))\n",
    "mae = mt.mean_absolute_error(y_test, ypred_test)\n",
    "mape = mt.mean_absolute_percentage_error(y_test, ypred_test)\n",
    "    \n",
    "print(f' R2:{r2:.3f} , MSE:{mse:.3f}, RMSE:{rmse:.3f}, MAE:{mae:.3f}, MAPE:{mape:.3f}')"
   ]
  },
  {
   "cell_type": "code",
   "execution_count": 46,
   "id": "18046d2d-239c-48d4-b9da-e0861f7f7075",
   "metadata": {},
   "outputs": [
    {
     "name": "stdout",
     "output_type": "stream",
     "text": [
      " R2:0.010 , MSE:472.907, RMSE:21.746, MAE:17.245, MAPE:8.683\n"
     ]
    }
   ],
   "source": [
    "#VALIDATION\n",
    "poly_features = pp.PolynomialFeatures()\n",
    "x_val_poly = poly_features.fit_transform(x_validation)\n",
    "\n",
    "#MODEL\n",
    "poly_reg = lm.Lasso()\n",
    "\n",
    "#FIT\n",
    "poly_reg.fit(x_val_poly, y_validation)\n",
    "\n",
    "#PERFORMANCE\n",
    "ypred_val = poly_reg.predict(x_val_poly)\n",
    "\n",
    "\n",
    "#metrics\n",
    "r2 = mt.r2_score(y_validation, ypred_val)\n",
    "mse = mt.mean_squared_error(y_validation, ypred_val)\n",
    "rmse = np.sqrt(mt.mean_squared_error(y_validation, ypred_val))\n",
    "mae = mt.mean_absolute_error(y_validation, ypred_val)\n",
    "mape = mt.mean_absolute_percentage_error(y_validation, ypred_val)\n",
    "    \n",
    "print(f' R2:{r2:.3f} , MSE:{mse:.3f}, RMSE:{rmse:.3f}, MAE:{mae:.3f}, MAPE:{mape:.3f}')"
   ]
  },
  {
   "cell_type": "markdown",
   "id": "fc74a697-ad6c-4385-9d1c-65b62833d190",
   "metadata": {},
   "source": [
    "### 2.9 Polinomial Regression Ridge"
   ]
  },
  {
   "cell_type": "code",
   "execution_count": 47,
   "id": "3d6973cb-8f1f-4423-8b47-228ad668aba3",
   "metadata": {},
   "outputs": [
    {
     "name": "stdout",
     "output_type": "stream",
     "text": [
      " R2:0.093 , MSE:433.475, RMSE:20.820, MAE:16.472, MAPE:8.373\n"
     ]
    }
   ],
   "source": [
    "#TREINAMENTO\n",
    "poly_features = pp.PolynomialFeatures()\n",
    "x_train_poly = poly_features.fit_transform(x_training)\n",
    "\n",
    "#MODEL\n",
    "poly_reg = lm.Ridge()\n",
    "\n",
    "#FIT\n",
    "poly_reg.fit(x_train_poly, y_training)\n",
    "\n",
    "#PERFORMANCE\n",
    "ypred = poly_reg.predict(x_train_poly)\n",
    "\n",
    "\n",
    "#metrics\n",
    "r2 = mt.r2_score(y_training, ypred)\n",
    "mse = mt.mean_squared_error(y_training, ypred)\n",
    "rmse = np.sqrt(mt.mean_squared_error(y_training, ypred))\n",
    "mae = mt.mean_absolute_error(y_training, ypred)\n",
    "mape = mt.mean_absolute_percentage_error(y_training, ypred)\n",
    "    \n",
    "print(f' R2:{r2:.3f} , MSE:{mse:.3f}, RMSE:{rmse:.3f}, MAE:{mae:.3f}, MAPE:{mape:.3f}')"
   ]
  },
  {
   "cell_type": "code",
   "execution_count": 48,
   "id": "525145a8-0496-43b8-a2bc-70b72daa9bec",
   "metadata": {},
   "outputs": [
    {
     "name": "stdout",
     "output_type": "stream",
     "text": [
      " R2:0.118 , MSE:429.595, RMSE:20.727, MAE:16.494, MAPE:7.898\n"
     ]
    }
   ],
   "source": [
    "#TESTE\n",
    "poly_features = pp.PolynomialFeatures()\n",
    "x_test_poly = poly_features.fit_transform(x_test)\n",
    "\n",
    "#MODEL\n",
    "poly_reg = lm.Ridge()\n",
    "\n",
    "#FIT\n",
    "poly_reg.fit(x_test_poly, y_test)\n",
    "\n",
    "#PERFORMANCE\n",
    "ypred_test = poly_reg.predict(x_test_poly)\n",
    "\n",
    "\n",
    "#metrics\n",
    "r2 = mt.r2_score(y_test, ypred_test)\n",
    "mse = mt.mean_squared_error(y_test, ypred_test)\n",
    "rmse = np.sqrt(mt.mean_squared_error(y_test, ypred_test))\n",
    "mae = mt.mean_absolute_error(y_test, ypred_test)\n",
    "mape = mt.mean_absolute_percentage_error(y_test, ypred_test)\n",
    "    \n",
    "print(f' R2:{r2:.3f} , MSE:{mse:.3f}, RMSE:{rmse:.3f}, MAE:{mae:.3f}, MAPE:{mape:.3f}')"
   ]
  },
  {
   "cell_type": "code",
   "execution_count": 49,
   "id": "020c2665-98f6-4194-ba3c-09a36ddb2df0",
   "metadata": {},
   "outputs": [
    {
     "name": "stdout",
     "output_type": "stream",
     "text": [
      " R2:0.092 , MSE:433.767, RMSE:20.827, MAE:16.538, MAPE:8.445\n"
     ]
    }
   ],
   "source": [
    "#VALIDATION\n",
    "poly_features = pp.PolynomialFeatures()\n",
    "x_val_poly = poly_features.fit_transform(x_validation)\n",
    "\n",
    "#MODEL\n",
    "poly_reg = lm.Ridge()\n",
    "\n",
    "#FIT\n",
    "poly_reg.fit(x_val_poly, y_validation)\n",
    "\n",
    "#PERFORMANCE\n",
    "ypred_val = poly_reg.predict(x_val_poly)\n",
    "\n",
    "\n",
    "#metrics\n",
    "r2 = mt.r2_score(y_validation, ypred_val)\n",
    "mse = mt.mean_squared_error(y_validation, ypred_val)\n",
    "rmse = np.sqrt(mt.mean_squared_error(y_validation, ypred_val))\n",
    "mae = mt.mean_absolute_error(y_validation, ypred_val)\n",
    "mape = mt.mean_absolute_percentage_error(y_validation, ypred_val)\n",
    "    \n",
    "print(f' R2:{r2:.3f} , MSE:{mse:.3f}, RMSE:{rmse:.3f}, MAE:{mae:.3f}, MAPE:{mape:.3f}')\n"
   ]
  },
  {
   "cell_type": "markdown",
   "id": "980c367f-206c-42f1-b1e0-73323062680e",
   "metadata": {},
   "source": [
    "### 2.10 Polinomial Regression Elastic Net "
   ]
  },
  {
   "cell_type": "code",
   "execution_count": 50,
   "id": "1fce20bc-2c88-4b9f-b928-f351d6cd7198",
   "metadata": {},
   "outputs": [
    {
     "name": "stdout",
     "output_type": "stream",
     "text": [
      " R2:0.013 , MSE:471.878, RMSE:21.723, MAE:17.244, MAPE:8.679\n"
     ]
    }
   ],
   "source": [
    "#TREINAMENTO\n",
    "poly_features = pp.PolynomialFeatures()\n",
    "x_train_poly = poly_features.fit_transform(x_training)\n",
    "\n",
    "#MODEL\n",
    "poly_reg = lm.ElasticNet(random_state = 0)\n",
    "\n",
    "#FIT\n",
    "poly_reg.fit(x_train_poly, y_training)\n",
    "\n",
    "#PERFORMANCE\n",
    "ypred = poly_reg.predict(x_train_poly)\n",
    "\n",
    "\n",
    "#metrics\n",
    "r2 = mt.r2_score(y_training, ypred)\n",
    "mse = mt.mean_squared_error(y_training, ypred)\n",
    "rmse = np.sqrt(mt.mean_squared_error(y_training, ypred))\n",
    "mae = mt.mean_absolute_error(y_training, ypred)\n",
    "mape = mt.mean_absolute_percentage_error(y_training, ypred)\n",
    "    \n",
    "print(f' R2:{r2:.3f} , MSE:{mse:.3f}, RMSE:{rmse:.3f}, MAE:{mae:.3f}, MAPE:{mape:.3f}')"
   ]
  },
  {
   "cell_type": "code",
   "execution_count": 51,
   "id": "cbe641b9-f70f-4e40-858a-d88eadb63ebc",
   "metadata": {},
   "outputs": [
    {
     "name": "stdout",
     "output_type": "stream",
     "text": [
      " R2:0.013 , MSE:480.572, RMSE:21.922, MAE:17.441, MAPE:8.717\n"
     ]
    }
   ],
   "source": [
    "#TESTE\n",
    "poly_features = pp.PolynomialFeatures()\n",
    "x_test_poly = poly_features.fit_transform(x_test)\n",
    "\n",
    "#MODEL\n",
    "poly_reg = lm.ElasticNet(random_state = 0)\n",
    "\n",
    "#FIT\n",
    "poly_reg.fit(x_test_poly, y_test)\n",
    "\n",
    "#PERFORMANCE\n",
    "ypred_test = poly_reg.predict(x_test_poly)\n",
    "\n",
    "\n",
    "#metrics\n",
    "r2 = mt.r2_score(y_test, ypred_test)\n",
    "mse = mt.mean_squared_error(y_test, ypred_test)\n",
    "rmse = np.sqrt(mt.mean_squared_error(y_test, ypred_test))\n",
    "mae = mt.mean_absolute_error(y_test, ypred_test)\n",
    "mape = mt.mean_absolute_percentage_error(y_test, ypred_test)\n",
    "    \n",
    "print(f' R2:{r2:.3f} , MSE:{mse:.3f}, RMSE:{rmse:.3f}, MAE:{mae:.3f}, MAPE:{mape:.3f}')"
   ]
  },
  {
   "cell_type": "code",
   "execution_count": 52,
   "id": "65f45aff-ff25-453c-8f75-d49cc0aa2d9f",
   "metadata": {},
   "outputs": [
    {
     "name": "stdout",
     "output_type": "stream",
     "text": [
      " R2:0.013 , MSE:471.379, RMSE:21.711, MAE:17.203, MAPE:8.681\n"
     ]
    }
   ],
   "source": [
    "#VALIDATION\n",
    "poly_features = pp.PolynomialFeatures()\n",
    "x_val_poly = poly_features.fit_transform(x_validation)\n",
    "\n",
    "#MODEL\n",
    "poly_reg = lm.ElasticNet(random_state = 0)\n",
    "\n",
    "#FIT\n",
    "poly_reg.fit(x_val_poly, y_validation)\n",
    "\n",
    "#PERFORMANCE\n",
    "ypred_val = poly_reg.predict(x_val_poly)\n",
    "\n",
    "\n",
    "#metrics\n",
    "r2 = mt.r2_score(y_validation, ypred_val)\n",
    "mse = mt.mean_squared_error(y_validation, ypred_val)\n",
    "rmse = np.sqrt(mt.mean_squared_error(y_validation, ypred_val))\n",
    "mae = mt.mean_absolute_error(y_validation, ypred_val)\n",
    "mape = mt.mean_absolute_percentage_error(y_validation, ypred_val)\n",
    "    \n",
    "print(f' R2:{r2:.3f} , MSE:{mse:.3f}, RMSE:{rmse:.3f}, MAE:{mae:.3f}, MAPE:{mape:.3f}')\n"
   ]
  }
 ],
 "metadata": {
  "kernelspec": {
   "display_name": "Python 3 (ipykernel)",
   "language": "python",
   "name": "python3"
  },
  "language_info": {
   "codemirror_mode": {
    "name": "ipython",
    "version": 3
   },
   "file_extension": ".py",
   "mimetype": "text/x-python",
   "name": "python",
   "nbconvert_exporter": "python",
   "pygments_lexer": "ipython3",
   "version": "3.8.16"
  }
 },
 "nbformat": 4,
 "nbformat_minor": 5
}
