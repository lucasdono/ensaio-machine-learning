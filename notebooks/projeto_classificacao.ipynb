{
 "cells": [
  {
   "cell_type": "markdown",
   "id": "ceb537da-f11c-4dd0-8eaf-f4df521cb054",
   "metadata": {},
   "source": [
    "# 0.0 Import Libraries"
   ]
  },
  {
   "cell_type": "code",
   "execution_count": 1,
   "id": "d71f261f-6363-4951-a56b-af162f784147",
   "metadata": {},
   "outputs": [],
   "source": [
    "import pandas as pd\n",
    "import numpy as np\n",
    "\n",
    "from sklearn.neighbors import KNeighborsClassifier\n",
    "from sklearn           import metrics      as mt\n",
    "from sklearn           import tree         as tr\n",
    "from sklearn           import ensemble     as en\n",
    "from sklearn           import linear_model as lm\n",
    "from matplotlib        import pyplot       as plt"
   ]
  },
  {
   "cell_type": "markdown",
   "id": "7e75dc61-fcea-42ff-a936-af2a073b9dfc",
   "metadata": {},
   "source": [
    "# 1.0 Load Data"
   ]
  },
  {
   "cell_type": "code",
   "execution_count": 2,
   "id": "22dece77-2ea2-4618-8b0b-214429632df2",
   "metadata": {},
   "outputs": [],
   "source": [
    "#test data\n",
    "x_test = '../projeto/classificacao/X_test.csv'\n",
    "x_test = pd.read_csv(x_test)\n",
    "\n",
    "y_test = '../projeto/classificacao/y_test.csv'\n",
    "y_test = pd.read_csv(y_test).values.ravel()\n",
    "\n",
    "#training data\n",
    "x_training = '../projeto/classificacao/x_training.csv'\n",
    "x_training = pd.read_csv(x_training)\n",
    "\n",
    "y_training = '../projeto/classificacao/y_training.csv'\n",
    "y_training = pd.read_csv(y_training).values.ravel()\n",
    "\n",
    "#validation data\n",
    "x_validation = '../projeto/classificacao/x_validation.csv'\n",
    "x_validation = pd.read_csv(x_validation)\n",
    "\n",
    "y_validation = '../projeto/classificacao/y_validation.csv'\n",
    "y_validation = pd.read_csv(y_validation).values.ravel()\n",
    "\n"
   ]
  },
  {
   "cell_type": "markdown",
   "id": "8b27445c-2480-44d0-b4aa-1bbee4133df2",
   "metadata": {},
   "source": [
    "# 2.0 Algoritmos de Classificação\n"
   ]
  },
  {
   "cell_type": "markdown",
   "id": "353a8c9a-290f-494c-87a9-05392b5375a6",
   "metadata": {
    "jp-MarkdownHeadingCollapsed": true
   },
   "source": [
    "### 2.1.1 KNN"
   ]
  },
  {
   "cell_type": "code",
   "execution_count": 3,
   "id": "65287f93-77fd-4c26-a5f2-14fc92bf27d2",
   "metadata": {},
   "outputs": [],
   "source": [
    "#seleção de features\n",
    "x_test\n",
    "y_test "
   ]
  },
  {
   "cell_type": "code",
   "execution_count": 3,
   "id": "ca384d89-2198-4334-954e-95668fce71c5",
   "metadata": {},
   "outputs": [
    {
     "name": "stdout",
     "output_type": "stream",
     "text": [
      "N_NEIGHBORS 2, com : ACC: 0.840 , PRECISION: 1.000 , RECALL: 0.631 , F1_SCORE: 0.774 com os dados de treinamento\n",
      "N_NEIGHBORS 3, com : ACC: 0.832 , PRECISION: 0.812 , RECALL: 0.797 , F1_SCORE: 0.805 com os dados de treinamento\n",
      "N_NEIGHBORS 4, com : ACC: 0.785 , PRECISION: 0.853 , RECALL: 0.608 , F1_SCORE: 0.710 com os dados de treinamento\n",
      "N_NEIGHBORS 5, com : ACC: 0.782 , PRECISION: 0.756 , RECALL: 0.733 , F1_SCORE: 0.744 com os dados de treinamento\n",
      "N_NEIGHBORS 6, com : ACC: 0.757 , PRECISION: 0.792 , RECALL: 0.597 , F1_SCORE: 0.681 com os dados de treinamento\n",
      "N_NEIGHBORS 7, com : ACC: 0.756 , PRECISION: 0.731 , RECALL: 0.692 , F1_SCORE: 0.711 com os dados de treinamento\n",
      "N_NEIGHBORS 8, com : ACC: 0.742 , PRECISION: 0.762 , RECALL: 0.588 , F1_SCORE: 0.664 com os dados de treinamento\n",
      "N_NEIGHBORS 9, com : ACC: 0.740 , PRECISION: 0.714 , RECALL: 0.668 , F1_SCORE: 0.690 com os dados de treinamento\n",
      "N_NEIGHBORS 10, com : ACC: 0.730 , PRECISION: 0.742 , RECALL: 0.578 , F1_SCORE: 0.650 com os dados de treinamento\n",
      "N_NEIGHBORS 11, com : ACC: 0.730 , PRECISION: 0.705 , RECALL: 0.647 , F1_SCORE: 0.675 com os dados de treinamento\n",
      "N_NEIGHBORS 12, com : ACC: 0.720 , PRECISION: 0.727 , RECALL: 0.569 , F1_SCORE: 0.638 com os dados de treinamento\n",
      "N_NEIGHBORS 13, com : ACC: 0.719 , PRECISION: 0.695 , RECALL: 0.627 , F1_SCORE: 0.659 com os dados de treinamento\n",
      "N_NEIGHBORS 14, com : ACC: 0.712 , PRECISION: 0.715 , RECALL: 0.557 , F1_SCORE: 0.627 com os dados de treinamento\n",
      "N_NEIGHBORS 15, com : ACC: 0.711 , PRECISION: 0.686 , RECALL: 0.612 , F1_SCORE: 0.647 com os dados de treinamento\n",
      "N_NEIGHBORS 16, com : ACC: 0.704 , PRECISION: 0.705 , RECALL: 0.544 , F1_SCORE: 0.614 com os dados de treinamento\n",
      "N_NEIGHBORS 17, com : ACC: 0.703 , PRECISION: 0.680 , RECALL: 0.593 , F1_SCORE: 0.634 com os dados de treinamento\n",
      "N_NEIGHBORS 18, com : ACC: 0.699 , PRECISION: 0.700 , RECALL: 0.532 , F1_SCORE: 0.605 com os dados de treinamento\n",
      "N_NEIGHBORS 19, com : ACC: 0.697 , PRECISION: 0.676 , RECALL: 0.577 , F1_SCORE: 0.623 com os dados de treinamento\n",
      "N_NEIGHBORS 20, com : ACC: 0.693 , PRECISION: 0.694 , RECALL: 0.521 , F1_SCORE: 0.595 com os dados de treinamento\n"
     ]
    }
   ],
   "source": [
    "#TREINAMENTO\n",
    "#definição do melhor valor para o parametro (n_neighbors), geralmente depende do objetivo esperado (métricas) , se precisa de mais recall ou precision, ou f1 score, ou acc\n",
    "for k in range(2, 21):\n",
    "    knn_classifier = KNeighborsClassifier(n_neighbors = k)\n",
    "    knn_classifier.fit( x_training, y_training)    \n",
    "    y_pred_train = knn_classifier.predict( x_training )    \n",
    "    \n",
    "    acc = mt.accuracy_score(y_training , y_pred_train)\n",
    "    precision = mt.precision_score(y_training, y_pred_train)\n",
    "    recall = mt.recall_score(y_training, y_pred_train)\n",
    "    f1 = mt.f1_score(y_training, y_pred_train)\n",
    "    \n",
    "        \n",
    "    print(f'N_NEIGHBORS {k}, com : ACC: {acc:.3f} , PRECISION: {precision:.3f} , RECALL: {recall:.3f} , F1_SCORE: {f1:.3f} com os dados de treinamento')\n",
    "\n",
    "# O VALOR DE NEIGHBORS ESCOLHIDO NO PROJETO FOI 5, acredito que o motivo foi os valores aproximados de todas as métricas, tendo um equilibrio"
   ]
  },
  {
   "cell_type": "code",
   "execution_count": 8,
   "id": "c32ed75d-ea3c-4f20-8cf2-d14af1d38ce7",
   "metadata": {},
   "outputs": [
    {
     "name": "stdout",
     "output_type": "stream",
     "text": [
      "N_NEIGHBORS 5 , com : ACC: 0.759 , PRECISION: 0.739 , RECALL: 0.699 , F1_SCORE: 0.718 com os dados de teste\n"
     ]
    }
   ],
   "source": [
    "#TESTE\n",
    "#definição do melhor parametro (n_neighbors)\n",
    "\n",
    "knn_classifier = KNeighborsClassifier(n_neighbors = 5)\n",
    "knn_classifier.fit( x_ttraining, y_test)    \n",
    "y_pred_test = knn_classifier.predict( x_test )    \n",
    "    \n",
    "acc = mt.accuracy_score(y_test , y_pred_test)\n",
    "precision = mt.precision_score(y_test, y_pred_test)\n",
    "recall = mt.recall_score(y_test, y_pred_test)\n",
    "f1 = mt.f1_score(y_test, y_pred_test)\n",
    "    \n",
    "        \n",
    "print(f'N_NEIGHBORS 5 , com : ACC: {acc:.3f} , PRECISION: {precision:.3f} , RECALL: {recall:.3f} , F1_SCORE: {f1:.3f} com os dados de teste')\n"
   ]
  },
  {
   "cell_type": "code",
   "execution_count": 9,
   "id": "380e8073-ff8f-4245-a929-e90a129d9b8a",
   "metadata": {},
   "outputs": [
    {
     "name": "stdout",
     "output_type": "stream",
     "text": [
      "N_NEIGHBORS 5, com : ACC: 0.676 , PRECISION: 0.632 , RECALL: 0.603 , F1_SCORE: 0.617 com os dados de validação\n"
     ]
    }
   ],
   "source": [
    "#Validation\n",
    "#definição do melhor parametro (n_neighbors)\n",
    "\n",
    "knn_classifier = KNeighborsClassifier(n_neighbors = 5)\n",
    "knn_classifier.fit( x_training, y_training)    \n",
    "y_pred_val = knn_classifier.predict( x_validation )    \n",
    "    \n",
    "acc = mt.accuracy_score(y_validation , y_pred_val)\n",
    "precision = mt.precision_score(y_validation, y_pred_val)\n",
    "recall = mt.recall_score(y_validation, y_pred_val)\n",
    "f1 = mt.f1_score(y_validation, y_pred_val)\n",
    "    \n",
    "        \n",
    "print(f'N_NEIGHBORS 5, com : ACC: {acc:.3f} , PRECISION: {precision:.3f} , RECALL: {recall:.3f} , F1_SCORE: {f1:.3f} com os dados de validação')"
   ]
  },
  {
   "cell_type": "markdown",
   "id": "af01bc61-a760-4afb-b2e2-019bc1f424bb",
   "metadata": {
    "jp-MarkdownHeadingCollapsed": true
   },
   "source": [
    "### 2.1.2 Decision Tree"
   ]
  },
  {
   "cell_type": "code",
   "execution_count": 10,
   "id": "5ccb0792-6327-4a95-a8a0-5f3cbe353b5a",
   "metadata": {},
   "outputs": [
    {
     "name": "stdout",
     "output_type": "stream",
     "text": [
      " acc:1.000 , precision:1.000, recall:1.000, f1-score:1.000\n"
     ]
    }
   ],
   "source": [
    "#Training\n",
    "\n",
    "model_tree = tr.DecisionTreeClassifier(random_state = 0)\n",
    "\n",
    "model_tree.fit( x_training, y_training)\n",
    "yhat_training = model_tree.predict_proba(x_training)[:,1]  #É OBRIGADO A SELECIONAR TODAS AS LINHAS APENAS DA SEGUNDA COLUNA\n",
    "\n",
    "\n",
    "#metrics\n",
    "acc = mt.accuracy_score(y_training, yhat_training)\n",
    "precision = mt.precision_score(y_training, yhat_training)\n",
    "recall = mt.recall_score(y_training, yhat_training)\n",
    "f1 = mt.f1_score(y_training, yhat_training)\n",
    "\n",
    "    \n",
    "print(f' acc:{acc:.3f} , precision:{precision:.3f}, recall:{recall:.3f}, f1-score:{f1:.3f}')\n",
    "\n"
   ]
  },
  {
   "cell_type": "code",
   "execution_count": 15,
   "id": "30c917d0-2293-455c-a4fb-70d15637e87f",
   "metadata": {},
   "outputs": [
    {
     "name": "stdout",
     "output_type": "stream",
     "text": [
      " acc:0.946 , precision:0.936, recall:0.940, f1-score:0.938\n"
     ]
    }
   ],
   "source": [
    "#Test\n",
    "\n",
    "model_tree = tr.DecisionTreeClassifier(random_state = 0)\n",
    "\n",
    "model_tree.fit( x_training, y_training)\n",
    "y_pred_test = model_tree.predict_proba(x_test)[:,1]\n",
    "\n",
    "#metrics\n",
    "acc = mt.accuracy_score(y_test, y_pred_test)\n",
    "precision = mt.precision_score(y_test, y_pred_test)\n",
    "recall = mt.recall_score(y_test, y_pred_test)\n",
    "f1 = mt.f1_score(y_test, y_pred_test)\n",
    "\n",
    "    \n",
    "print(f' acc:{acc:.3f} , precision:{precision:.3f}, recall:{recall:.3f}, f1-score:{f1:.3f}')"
   ]
  },
  {
   "cell_type": "code",
   "execution_count": 14,
   "id": "21be3930-f4c5-4e22-bfe5-728808c0a301",
   "metadata": {},
   "outputs": [
    {
     "name": "stdout",
     "output_type": "stream",
     "text": [
      " acc:0.946 , precision:0.936, recall:0.939, f1-score:0.938\n"
     ]
    }
   ],
   "source": [
    "#Validation\n",
    "\n",
    "model_tree = tr.DecisionTreeClassifier(random_state = 0)\n",
    "\n",
    "model_tree.fit( x_training, y_training)\n",
    "y_pred_val = model_tree.predict_proba(x_validation)[:,1]\n",
    "\n",
    "#metrics\n",
    "acc = mt.accuracy_score(y_validation, y_pred_val)\n",
    "precision = mt.precision_score(y_validation, y_pred_val)\n",
    "recall = mt.recall_score(y_validation, y_pred_val)\n",
    "f1 = mt.f1_score(y_validation, y_pred_val)\n",
    "\n",
    "    \n",
    "print(f' acc:{acc:.3f} , precision:{precision:.3f}, recall:{recall:.3f}, f1-score:{f1:.3f}')"
   ]
  },
  {
   "cell_type": "markdown",
   "id": "4ff413ce-1ba0-4981-b359-d161f2aac32d",
   "metadata": {
    "jp-MarkdownHeadingCollapsed": true
   },
   "source": [
    "### 2.1.3 Random Forest"
   ]
  },
  {
   "cell_type": "code",
   "execution_count": 16,
   "id": "d08a7ded-cda1-4f3f-92bc-2ab58cd71d81",
   "metadata": {},
   "outputs": [],
   "source": [
    "#Training\n",
    "\n",
    "#model definition\n",
    "model = en.RandomForestClassifier(random_state=0)\n",
    "\n",
    "#training\n",
    "model.fit(x_training, y_training)\n",
    "\n",
    "#performance\n",
    "yhat_training = model.predict_proba(x_training)[:,1]\n"
   ]
  },
  {
   "cell_type": "code",
   "execution_count": 17,
   "id": "9ceb83a5-c072-4eca-9ce2-19fd7eac1771",
   "metadata": {},
   "outputs": [
    {
     "data": {
      "text/plain": [
       "Text(0, 0.5, 'TPR')"
      ]
     },
     "execution_count": 17,
     "metadata": {},
     "output_type": "execute_result"
    },
    {
     "data": {
      "image/png": "[encoded data removed]",
      "text/plain": [
       "<Figure size 640x480 with 1 Axes>"
      ]
     },
     "metadata": {},
     "output_type": "display_data"
    }
   ],
   "source": [
    "#ROC CURVE\n",
    "fpr, tpr, th = mt.roc_curve(y_training, yhat_training)\n",
    "\n",
    "plt.plot( fpr, 1-tpr, color='b')\n",
    "plt.xlabel('FPR')\n",
    "plt.ylabel('TPR')"
   ]
  },
  {
   "cell_type": "code",
   "execution_count": 18,
   "id": "0833be06-f842-4041-87f4-71f78e1b1f3b",
   "metadata": {},
   "outputs": [
    {
     "data": {
      "text/plain": [
       "0.53"
      ]
     },
     "execution_count": 18,
     "metadata": {},
     "output_type": "execute_result"
    }
   ],
   "source": [
    "# aqui é separado as classes de acordo com o melhor valor de treshold\n",
    "\n",
    "distances = np.sqrt((1-tpr)**2 + fpr**2)\n",
    "best_th = th[np.argmin(distances)] #DEFINE A POSIÇÃO DO MENOR VALOR DE DISTANCE\n",
    "best_th"
   ]
  },
  {
   "cell_type": "code",
   "execution_count": 19,
   "id": "b8927103-8fbd-43fc-99ec-8561dfc6f0f2",
   "metadata": {},
   "outputs": [
    {
     "name": "stdout",
     "output_type": "stream",
     "text": [
      " acc:1.000 , precision:1.000, recall:1.000, f1-score:1.000\n"
     ]
    }
   ],
   "source": [
    "yhat_training = (yhat_training >= best_th).astype(int)\n",
    "\n",
    "#metrics\n",
    "acc = mt.accuracy_score(y_training, yhat_training)\n",
    "precision = mt.precision_score(y_training, yhat_training)\n",
    "recall = mt.recall_score(y_training, yhat_training)\n",
    "f1 = mt.f1_score(y_training, yhat_training)\n",
    "\n",
    "    \n",
    "print(f' acc:{acc:.3f} , precision:{precision:.3f}, recall:{recall:.3f}, f1-score:{f1:.3f}')"
   ]
  },
  {
   "cell_type": "code",
   "execution_count": 20,
   "id": "f9bf2100-ca29-496b-a4b1-9d4e14679ac7",
   "metadata": {},
   "outputs": [
    {
     "name": "stdout",
     "output_type": "stream",
     "text": [
      " acc:0.963 , precision:0.962, recall:0.955, f1-score:0.958\n"
     ]
    },
    {
     "data": {
      "image/png": "[encoded data removed]",
      "text/plain": [
       "<Figure size 640x480 with 1 Axes>"
      ]
     },
     "metadata": {},
     "output_type": "display_data"
    }
   ],
   "source": [
    "#Test\n",
    "\n",
    "#model definition\n",
    "model = en.RandomForestClassifier(random_state=0)\n",
    "\n",
    "#training\n",
    "model.fit(x_training, y_training)\n",
    "\n",
    "#performance\n",
    "yhat_test = model.predict_proba(x_test)[:,1]\n",
    "\n",
    "\n",
    "#ROC CURVE\n",
    "fpr, tpr, th = mt.roc_curve(y_test, yhat_test)\n",
    "\n",
    "plt.plot( fpr, 1-tpr, color='b')\n",
    "plt.xlabel('FPR')\n",
    "plt.ylabel('TPR')\n",
    "\n",
    "#definir melhor treshold\n",
    "distances = np.sqrt((1-tpr)**2 + fpr**2)\n",
    "best_th = th[np.argmin(distances)] #DEFINE A POSIÇÃO DO MENOR VALOR DE DISTANCE\n",
    "best_th\n",
    "\n",
    "#tranformas os valores em int para poder prosseguir com a analise\n",
    "yhat_test = (yhat_test >= best_th).astype(int)\n",
    "\n",
    "\n",
    "#metrics\n",
    "acc = mt.accuracy_score(y_test, yhat_test)\n",
    "precision = mt.precision_score(y_test, yhat_test)\n",
    "recall = mt.recall_score(y_test, yhat_test)\n",
    "f1 = mt.f1_score(y_test, yhat_test)\n",
    "\n",
    "    \n",
    "print(f' acc:{acc:.3f} , precision:{precision:.3f}, recall:{recall:.3f}, f1-score:{f1:.3f}')"
   ]
  },
  {
   "cell_type": "code",
   "execution_count": 74,
   "id": "8b332b75-e50a-4a4c-bc4e-4ee98324eb76",
   "metadata": {},
   "outputs": [
    {
     "name": "stdout",
     "output_type": "stream",
     "text": [
      " acc:0.962 , precision:0.955, recall:0.957, f1-score:0.956\n"
     ]
    },
    {
     "data": {
      "image/png": "[encoded data removed]",
      "text/plain": [
       "<Figure size 640x480 with 1 Axes>"
      ]
     },
     "metadata": {},
     "output_type": "display_data"
    }
   ],
   "source": [
    "#Validation\n",
    "\n",
    "#model definition\n",
    "model = en.RandomForestClassifier(random_state=0)\n",
    "\n",
    "#training\n",
    "model.fit(x_training, y_training)\n",
    "\n",
    "#performance\n",
    "yhat_val = model.predict_proba(x_validation)[:,1]\n",
    "\n",
    "\n",
    "#ROC CURVE\n",
    "fpr, tpr, th = mt.roc_curve(y_validation, yhat_val)\n",
    "\n",
    "plt.plot( fpr, 1-tpr, color='b')\n",
    "plt.xlabel('FPR')\n",
    "plt.ylabel('TPR')\n",
    "\n",
    "\n",
    "#definir melhor TH\n",
    "distances = np.sqrt((1-tpr)**2 + fpr**2) #equação da reta\n",
    "best_th = th[np.argmin(distances)] #DEFINE A POSIÇÃO DO MENOR VALOR DE DISTANCE NOS VALORES DE TRESHOLD(TH)\n",
    "best_th\n",
    "\n",
    "#transformar os valores em INT para prosseguir\n",
    "yhat_val = (yhat_val >= best_th).astype(int)\n",
    "\n",
    "\n",
    "#metrics\n",
    "acc = mt.accuracy_score(y_validation, yhat_val)\n",
    "precision = mt.precision_score(y_validation, yhat_val)\n",
    "recall = mt.recall_score(y_validation, yhat_val)\n",
    "f1 = mt.f1_score(y_validation, yhat_val)\n",
    "\n",
    "    \n",
    "print(f' acc:{acc:.3f} , precision:{precision:.3f}, recall:{recall:.3f}, f1-score:{f1:.3f}')"
   ]
  },
  {
   "cell_type": "markdown",
   "id": "f1f554d2-48f8-4720-ab56-af7464fe6c97",
   "metadata": {
    "jp-MarkdownHeadingCollapsed": true
   },
   "source": [
    "### 2.1.4 Logistic Regression "
   ]
  },
  {
   "cell_type": "code",
   "execution_count": 29,
   "id": "ae23e598-d068-4a68-8304-e12c97eaa64e",
   "metadata": {},
   "outputs": [
    {
     "name": "stdout",
     "output_type": "stream",
     "text": [
      " ACC: 0.567 , PRECISION: 0.000 , RECALL: 0.000 , F1-SCORE: 0.000\n"
     ]
    },
    {
     "name": "stderr",
     "output_type": "stream",
     "text": [
      "C:\\Users\\donoex\\AppData\\Roaming\\jupyterlab-desktop\\jlab_server\\lib\\site-packages\\sklearn\\metrics\\_classification.py:1469: UndefinedMetricWarning: Precision is ill-defined and being set to 0.0 due to no predicted samples. Use `zero_division` parameter to control this behavior.\n",
      "  _warn_prf(average, modifier, msg_start, len(result))\n"
     ]
    }
   ],
   "source": [
    "#TRAINING\n",
    "\n",
    "#Define\n",
    "model = lm.LogisticRegression(random_state = 0)\n",
    "\n",
    "#training\n",
    "model.fit(x_training, y_training)\n",
    "\n",
    "#performance\n",
    "yhat_training = model.predict(x_training)\n",
    "\n",
    "acc = mt.accuracy_score(y_training , yhat_training)\n",
    "precision = mt.precision_score(y_training, yhat_training)\n",
    "recall = mt.recall_score(y_training, yhat_training)\n",
    "f1 = mt.f1_score(y_training, yhat_training)\n",
    "\n",
    "print(f' ACC: {acc:.3f} , PRECISION: {precision:.3f} , RECALL: {recall:.3f} , F1-SCORE: {f1:.3f}')"
   ]
  },
  {
   "cell_type": "code",
   "execution_count": 35,
   "id": "881debdd-4988-40dd-9773-054002f3b0c3",
   "metadata": {},
   "outputs": [
    {
     "name": "stdout",
     "output_type": "stream",
     "text": [
      " ACC: 0.561 , PRECISION: 0.000 , RECALL: 0.000 , F1-SCORE: 0.000\n"
     ]
    },
    {
     "name": "stderr",
     "output_type": "stream",
     "text": [
      "C:\\Users\\donoex\\AppData\\Roaming\\jupyterlab-desktop\\jlab_server\\lib\\site-packages\\sklearn\\metrics\\_classification.py:1469: UndefinedMetricWarning: Precision is ill-defined and being set to 0.0 due to no predicted samples. Use `zero_division` parameter to control this behavior.\n",
      "  _warn_prf(average, modifier, msg_start, len(result))\n"
     ]
    }
   ],
   "source": [
    "#TESTE\n",
    "\n",
    "#Define\n",
    "model = lm.LogisticRegression(random_state = 0)\n",
    "\n",
    "#training\n",
    "model.fit(x_training, y_training)\n",
    "\n",
    "#performance\n",
    "yhat_test = model.predict(x_test)\n",
    "\n",
    "acc = mt.accuracy_score(y_test , yhat_test)\n",
    "precision = mt.precision_score(y_test, yhat_test)\n",
    "recall = mt.recall_score(y_test, yhat_test)\n",
    "f1 = mt.f1_score(y_test, yhat_test)\n",
    "\n",
    "print(f' ACC: {acc:.3f} , PRECISION: {precision:.3f} , RECALL: {recall:.3f} , F1-SCORE: {f1:.3f}')"
   ]
  },
  {
   "cell_type": "code",
   "execution_count": 30,
   "id": "0532493e-d03f-467e-87dd-b21acce20704",
   "metadata": {},
   "outputs": [
    {
     "name": "stdout",
     "output_type": "stream",
     "text": [
      " ACC: 0.567 , PRECISION: 0.000 , RECALL: 0.000 , F1-SCORE: 0.000\n"
     ]
    },
    {
     "name": "stderr",
     "output_type": "stream",
     "text": [
      "C:\\Users\\donoex\\AppData\\Roaming\\jupyterlab-desktop\\jlab_server\\lib\\site-packages\\sklearn\\metrics\\_classification.py:1469: UndefinedMetricWarning: Precision is ill-defined and being set to 0.0 due to no predicted samples. Use `zero_division` parameter to control this behavior.\n",
      "  _warn_prf(average, modifier, msg_start, len(result))\n"
     ]
    }
   ],
   "source": [
    "#VALIDATION\n",
    "\n",
    "#Define\n",
    "model = lm.LogisticRegression(random_state = 0)\n",
    "\n",
    "#training\n",
    "model.fit(x_training, y_training)\n",
    "\n",
    "#performance\n",
    "yhat_val = model.predict(x_validation)\n",
    "\n",
    "acc = mt.accuracy_score(y_validation , yhat_val)\n",
    "precision = mt.precision_score(y_validation, yhat_val)\n",
    "recall = mt.recall_score(y_validation, yhat_val)\n",
    "f1 = mt.f1_score(y_validation, yhat_val)\n",
    "\n",
    "print(f' ACC: {acc:.3f} , PRECISION: {precision:.3f} , RECALL: {recall:.3f} , F1-SCORE: {f1:.3f}')"
   ]
  }
 ],
 "metadata": {
  "kernelspec": {
   "display_name": "Python 3 (ipykernel)",
   "language": "python",
   "name": "python3"
  },
  "language_info": {
   "codemirror_mode": {
    "name": "ipython",
    "version": 3
   },
   "file_extension": ".py",
   "mimetype": "text/x-python",
   "name": "python",
   "nbconvert_exporter": "python",
   "pygments_lexer": "ipython3",
   "version": "3.8.16"
  }
 },
 "nbformat": 4,
 "nbformat_minor": 5
}
